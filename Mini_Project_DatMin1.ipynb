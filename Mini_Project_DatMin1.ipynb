{
  "nbformat": 4,
  "nbformat_minor": 0,
  "metadata": {
    "colab": {
      "provenance": [],
      "toc_visible": true
    },
    "kernelspec": {
      "name": "python3",
      "display_name": "Python 3"
    },
    "language_info": {
      "name": "python"
    }
  },
  "cells": [
    {
      "cell_type": "markdown",
      "source": [
        "#2021-2022 Regular Season NBA Player Stats Dataset"
      ],
      "metadata": {
        "id": "Q5lL77cR8X1F"
      }
    },
    {
      "cell_type": "markdown",
      "source": [
        "## Business Understanding"
      ],
      "metadata": {
        "id": "iYabvq9O_nPH"
      }
    },
    {
      "cell_type": "markdown",
      "source": [
        "### Business Objective:\n",
        "Tujuan utama dari analisis dataset \"2021-2022 regular season NBA player stats per game\" adalah untuk mendapatkan wawasan mendalam mengenai performa pemain NBA selama musim reguler tersebut. Fokus utama adalah memahami kontribusi individu pemain dalam berbagai aspek permainan, seperti penembakan, pertahanan, dan kontribusi poin, untuk membantu tim, penggemar, dan analis dalam membuat keputusan yang lebih informasional terkait strategi tim, evaluasi pemain, dan pemilihan pemain.\n",
        "\n",
        "### Assess Situation:\n",
        "Sebelum melangkah lebih jauh, perlu untuk memahami konteks dan tantangan yang dihadapi dalam analisis dataset ini. Beberapa pertimbangan melibatkan variasi peran pemain, perbedaan tim, dan potensi perubahan performa sepanjang musim. Selain itu, perlu diidentifikasi apakah ada faktor luar seperti cedera atau perubahan tim yang dapat mempengaruhi hasil.\n",
        "\n",
        "### Data Mining Goals:\n",
        "1. Identifikasi Pemain Berperforma Tinggi: Menemukan pemain-pemain yang memiliki kontribusi tinggi dalam kategori poin, rebound, assist, dan elemen permainan lainnya.\n",
        "2. Analisis Efektivitas Penembakan: Menganalisis efektivitas penembakan pemain dengan mempertimbangkan persentase field goal, persentase three-point, dan efektivitas field goal (eFG%).\n",
        "3. Eksplorasi Hubungan antar Variabel: Menjelajahi hubungan antara berbagai variabel seperti usia pemain dengan performa, jumlah game dimainkan, dan apakah ada pola dalam performa pemain sepanjang musim.\n",
        "4. Tim Contribution Analysis: Menganalisis kontribusi individu terhadap keseluruhan performa tim dan bagaimana itu berkorelasi dengan hasil tim.\n",
        "\n",
        "### Project Plan :\n",
        "1. Data Collection:\n",
        "Mengumpulkan dataset \"2021-2022 regular season NBA player stats per game\" dari sumber yang sah dan memverifikasi keakuratannya.\n",
        "2. Data Preprocessing:\n",
        "Melakukan pembersihan data, mengatasi nilai yang hilang, dan mengubah format data jika diperlukan.\n",
        "3. Exploratory Data Analysis (EDA):\n",
        " Menjalankan analisis eksploratif untuk memahami distribusi data, melihat outlier, dan mendapatkan wawasan awal.\n",
        "4. Feature Selection:\n",
        " Identifikasi variabel yang paling relevan dan signifikan dalam mencapai tujuan analisis.\n",
        "5. Modeling:\n",
        " Jika diperlukan, penerapan model prediktif untuk mendukung identifikasi pemain berperforma tinggi berdasarkan data historis.\n",
        "6. Evaluation:\n",
        " Mengevaluasi hasil dan wawasan yang diperoleh, memastikan keandalan analisis, dan melihat kesesuaian dengan tujuan awal.\n",
        "7. Reporting:\n",
        "Menyajikan temuan dalam bentuk laporan atau visualisasi yang mudah dimengerti oleh pemangku kepentingan."
      ],
      "metadata": {
        "id": "6VAIH0ST_zhX"
      }
    }
  ]
}